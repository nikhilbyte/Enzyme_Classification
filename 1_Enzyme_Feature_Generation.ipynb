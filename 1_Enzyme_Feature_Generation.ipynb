{
  "cells": [
    {
      "cell_type": "markdown",
      "metadata": {
        "id": "8kQTn-vVm2c0"
      },
      "source": [
        "# **Feature Generation**"
      ]
    },
    {
      "cell_type": "markdown",
      "metadata": {
        "id": "7w3KK0COkOWI"
      },
      "source": [
        "Protein Sequence to 1280 long features using ESM 1b\n",
        "\n"
      ]
    },
    {
      "cell_type": "code",
      "execution_count": null,
      "metadata": {
        "id": "RbqLddN3n-1E"
      },
      "outputs": [],
      "source": [
        "'''pytorch 1.7.1 along with cuda 10.1 is required for the package to run!\n",
        "so install it using the cell below'''"
      ]
    },
    {
      "cell_type": "code",
      "execution_count": null,
      "metadata": {
        "colab": {
          "base_uri": "https://localhost:8080/"
        },
        "id": "aHaxBGoSm2Kb",
        "outputId": "fd1f45c7-156c-4b0a-f1ec-c88b6c803cf0"
      },
      "outputs": [
        {
          "name": "stdout",
          "output_type": "stream",
          "text": [
            "Looking in indexes: https://pypi.org/simple, https://us-python.pkg.dev/colab-wheels/public/simple/\n",
            "Looking in links: https://download.pytorch.org/whl/torch_stable.html\n",
            "Collecting torch==1.7.1+cu101\n",
            "  Downloading https://download.pytorch.org/whl/cu101/torch-1.7.1%2Bcu101-cp37-cp37m-linux_x86_64.whl (735.4 MB)\n",
            "\u001b[K     |████████████████████████████████| 735.4 MB 15 kB/s \n",
            "\u001b[?25hRequirement already satisfied: numpy in /usr/local/lib/python3.7/dist-packages (from torch==1.7.1+cu101) (1.21.6)\n",
            "Requirement already satisfied: typing-extensions in /usr/local/lib/python3.7/dist-packages (from torch==1.7.1+cu101) (4.2.0)\n",
            "Installing collected packages: torch\n",
            "  Attempting uninstall: torch\n",
            "    Found existing installation: torch 1.11.0+cu113\n",
            "    Uninstalling torch-1.11.0+cu113:\n",
            "      Successfully uninstalled torch-1.11.0+cu113\n",
            "\u001b[31mERROR: pip's dependency resolver does not currently take into account all the packages that are installed. This behaviour is the source of the following dependency conflicts.\n",
            "torchvision 0.12.0+cu113 requires torch==1.11.0, but you have torch 1.7.1+cu101 which is incompatible.\n",
            "torchtext 0.12.0 requires torch==1.11.0, but you have torch 1.7.1+cu101 which is incompatible.\n",
            "torchaudio 0.11.0+cu113 requires torch==1.11.0, but you have torch 1.7.1+cu101 which is incompatible.\u001b[0m\n",
            "Successfully installed torch-1.7.1+cu101\n"
          ]
        }
      ],
      "source": [
        "!pip install torch==1.7.1+cu101 -f https://download.pytorch.org/whl/torch_stable.html"
      ]
    },
    {
      "cell_type": "code",
      "execution_count": null,
      "metadata": {
        "colab": {
          "base_uri": "https://localhost:8080/"
        },
        "id": "8sNzbuK5kCGq",
        "outputId": "0589c90e-3e40-4a50-9e13-4419e0974dbc"
      },
      "outputs": [
        {
          "name": "stdout",
          "output_type": "stream",
          "text": [
            "1.7.1+cu101\n"
          ]
        }
      ],
      "source": [
        "import torch \n",
        "print(torch.__version__)"
      ]
    },
    {
      "cell_type": "markdown",
      "metadata": {
        "id": "v8Fo5Q-Dohxx"
      },
      "source": [
        "Install Bio_enbeddings\n",
        "[More Info can be found on their GitHub page](https://github.com/sacdallago/bio_embeddings.git)"
      ]
    },
    {
      "cell_type": "markdown",
      "metadata": {
        "id": "B01Uc0WWo8ER"
      },
      "source": [
        "The cell below will take approximately 5-10 mins"
      ]
    },
    {
      "cell_type": "code",
      "execution_count": null,
      "metadata": {
        "colab": {
          "base_uri": "https://localhost:8080/"
        },
        "id": "GIglAEEdoTjO",
        "outputId": "0668df7c-f626-4a83-a8c3-f6e0c0e29a8b"
      },
      "outputs": [
        {
          "name": "stdout",
          "output_type": "stream",
          "text": [
            "  Running command git clone --filter=blob:none --quiet https://github.com/sacdallago/bio_embeddings.git /tmp/pip-install-fj5ksknp/bio-embeddings_9668d98a96dd4c9cb2c4addfd1ab38bb\n",
            "tcmalloc: large alloc 1102381056 bytes == 0x36d8e000 @  0x7fa5102eb615 0x592b76 0x4df71e 0x59afff 0x515655 0x549576 0x593fce 0x511e2c 0x549576 0x593fce 0x511e2c 0x549576 0x593fce 0x511e2c 0x549576 0x593fce 0x511e2c 0x549576 0x593fce 0x511e2c 0x593dd7 0x511e2c 0x549576 0x593fce 0x548ae9 0x5127f1 0x549576 0x593fce 0x511e2c 0x549576 0x593fce\n",
            "\u001b[31mERROR: pip's dependency resolver does not currently take into account all the packages that are installed. This behaviour is the source of the following dependency conflicts.\n",
            "tensorflow 2.8.0+zzzcolab20220506162203 requires tf-estimator-nightly==2.8.0.dev2021122109, which is not installed.\n",
            "yellowbrick 1.4 requires scikit-learn>=1.0.0, but you have scikit-learn 0.24.2 which is incompatible.\n",
            "torchvision 0.12.0+cu113 requires torch==1.11.0, but you have torch 1.9.1 which is incompatible.\n",
            "torchtext 0.12.0 requires torch==1.11.0, but you have torch 1.9.1 which is incompatible.\n",
            "torchaudio 0.11.0+cu113 requires torch==1.11.0, but you have torch 1.9.1 which is incompatible.\n",
            "datascience 0.10.6 requires folium==0.2.1, but you have folium 0.8.3 which is incompatible.\n",
            "albumentations 0.1.12 requires imgaug<0.2.7,>=0.2.5, but you have imgaug 0.2.9 which is incompatible.\u001b[0m\u001b[31m\n",
            "\u001b[0m\u001b[33mWARNING: Running pip as the 'root' user can result in broken permissions and conflicting behaviour with the system package manager. It is recommended to use a virtual environment instead: https://pip.pypa.io/warnings/venv\u001b[0m\u001b[33m\n",
            "\u001b[0m"
          ]
        }
      ],
      "source": [
        "!pip3 install -U pip > /dev/null\n",
        "!pip3 install -U \"bio-embeddings[all] @ git+https://github.com/sacdallago/bio_embeddings.git\" > /dev/null"
      ]
    },
    {
      "cell_type": "markdown",
      "metadata": {
        "id": "CbBdrKVXpIbt"
      },
      "source": [
        "Mounting drive to read in the training data"
      ]
    },
    {
      "cell_type": "code",
      "execution_count": null,
      "metadata": {
        "colab": {
          "base_uri": "https://localhost:8080/"
        },
        "id": "sOpPpZiwoTgB",
        "outputId": "a8fb80f4-0c35-498b-98cf-7ff4af455b6c"
      },
      "outputs": [
        {
          "name": "stdout",
          "output_type": "stream",
          "text": [
            "Mounted at /content/drive\n"
          ]
        }
      ],
      "source": [
        "from google.colab import drive\n",
        "drive.mount('/content/drive')"
      ]
    },
    {
      "cell_type": "code",
      "execution_count": null,
      "metadata": {
        "id": "TU4WoopOoTc_"
      },
      "outputs": [],
      "source": [
        "import pandas as pd\n",
        "import numpy as np"
      ]
    },
    {
      "cell_type": "markdown",
      "metadata": {
        "id": "wSwl_fczpWt0"
      },
      "source": [
        "# *the cell below will give an error when you run it for the first time but ignore the error and re run the same cell again and that error will go away!*"
      ]
    },
    {
      "cell_type": "code",
      "execution_count": null,
      "metadata": {
        "id": "IAQtFCKboTaD"
      },
      "outputs": [],
      "source": [
        "from bio_embeddings.embed import ESM1bEmbedder"
      ]
    },
    {
      "cell_type": "markdown",
      "metadata": {
        "id": "cqsuZMIApvua"
      },
      "source": [
        "Reading the training data"
      ]
    },
    {
      "cell_type": "code",
      "execution_count": null,
      "metadata": {
        "colab": {
          "base_uri": "https://localhost:8080/",
          "height": 206
        },
        "id": "tO_WydDuoTXW",
        "outputId": "6e1259a8-eef9-41e2-b229-7ca10cff7a53"
      },
      "outputs": [
        {
          "data": {
            "text/html": [
              "\n",
              "  <div id=\"df-f37eb097-9281-45c0-a6db-e3ad983abf32\">\n",
              "    <div class=\"colab-df-container\">\n",
              "      <div>\n",
              "<style scoped>\n",
              "    .dataframe tbody tr th:only-of-type {\n",
              "        vertical-align: middle;\n",
              "    }\n",
              "\n",
              "    .dataframe tbody tr th {\n",
              "        vertical-align: top;\n",
              "    }\n",
              "\n",
              "    .dataframe thead th {\n",
              "        text-align: right;\n",
              "    }\n",
              "</style>\n",
              "<table border=\"1\" class=\"dataframe\">\n",
              "  <thead>\n",
              "    <tr style=\"text-align: right;\">\n",
              "      <th></th>\n",
              "      <th>SEQUENCE_ID</th>\n",
              "      <th>SEQUENCE</th>\n",
              "      <th>CREATURE</th>\n",
              "      <th>LABEL</th>\n",
              "    </tr>\n",
              "  </thead>\n",
              "  <tbody>\n",
              "    <tr>\n",
              "      <th>0</th>\n",
              "      <td>00011UBJ</td>\n",
              "      <td>MPWQELSITVPHEYVEPISYLFGRYGKGVSTELAGNGQVLLRTYLT...</td>\n",
              "      <td>creature9</td>\n",
              "      <td>class11</td>\n",
              "    </tr>\n",
              "    <tr>\n",
              "      <th>1</th>\n",
              "      <td>0001HZ3P</td>\n",
              "      <td>MGKLVIGSRGSELALWQANHIKERLKKECLIESEIQIVKTKGDKIL...</td>\n",
              "      <td>creature3</td>\n",
              "      <td>class13</td>\n",
              "    </tr>\n",
              "    <tr>\n",
              "      <th>2</th>\n",
              "      <td>0003NJDO</td>\n",
              "      <td>MFIVAVLMLAFLIFVHELGHFTIARICGVKVEVFSIGFGKKLCFFK...</td>\n",
              "      <td>creature3</td>\n",
              "      <td>class16</td>\n",
              "    </tr>\n",
              "    <tr>\n",
              "      <th>3</th>\n",
              "      <td>0003XVE3</td>\n",
              "      <td>MKNTSLSTTLTMNDTIAAIATPLGKGAISIIKISGHNALNILKQLT...</td>\n",
              "      <td>creature3</td>\n",
              "      <td>class12</td>\n",
              "    </tr>\n",
              "    <tr>\n",
              "      <th>4</th>\n",
              "      <td>00049BS0</td>\n",
              "      <td>MGNRLTKIYTKTGDSGLTGLADGSRTEKDSLRIFVIGDVDELNSLL...</td>\n",
              "      <td>creature8</td>\n",
              "      <td>class13</td>\n",
              "    </tr>\n",
              "  </tbody>\n",
              "</table>\n",
              "</div>\n",
              "      <button class=\"colab-df-convert\" onclick=\"convertToInteractive('df-f37eb097-9281-45c0-a6db-e3ad983abf32')\"\n",
              "              title=\"Convert this dataframe to an interactive table.\"\n",
              "              style=\"display:none;\">\n",
              "        \n",
              "  <svg xmlns=\"http://www.w3.org/2000/svg\" height=\"24px\"viewBox=\"0 0 24 24\"\n",
              "       width=\"24px\">\n",
              "    <path d=\"M0 0h24v24H0V0z\" fill=\"none\"/>\n",
              "    <path d=\"M18.56 5.44l.94 2.06.94-2.06 2.06-.94-2.06-.94-.94-2.06-.94 2.06-2.06.94zm-11 1L8.5 8.5l.94-2.06 2.06-.94-2.06-.94L8.5 2.5l-.94 2.06-2.06.94zm10 10l.94 2.06.94-2.06 2.06-.94-2.06-.94-.94-2.06-.94 2.06-2.06.94z\"/><path d=\"M17.41 7.96l-1.37-1.37c-.4-.4-.92-.59-1.43-.59-.52 0-1.04.2-1.43.59L10.3 9.45l-7.72 7.72c-.78.78-.78 2.05 0 2.83L4 21.41c.39.39.9.59 1.41.59.51 0 1.02-.2 1.41-.59l7.78-7.78 2.81-2.81c.8-.78.8-2.07 0-2.86zM5.41 20L4 18.59l7.72-7.72 1.47 1.35L5.41 20z\"/>\n",
              "  </svg>\n",
              "      </button>\n",
              "      \n",
              "  <style>\n",
              "    .colab-df-container {\n",
              "      display:flex;\n",
              "      flex-wrap:wrap;\n",
              "      gap: 12px;\n",
              "    }\n",
              "\n",
              "    .colab-df-convert {\n",
              "      background-color: #E8F0FE;\n",
              "      border: none;\n",
              "      border-radius: 50%;\n",
              "      cursor: pointer;\n",
              "      display: none;\n",
              "      fill: #1967D2;\n",
              "      height: 32px;\n",
              "      padding: 0 0 0 0;\n",
              "      width: 32px;\n",
              "    }\n",
              "\n",
              "    .colab-df-convert:hover {\n",
              "      background-color: #E2EBFA;\n",
              "      box-shadow: 0px 1px 2px rgba(60, 64, 67, 0.3), 0px 1px 3px 1px rgba(60, 64, 67, 0.15);\n",
              "      fill: #174EA6;\n",
              "    }\n",
              "\n",
              "    [theme=dark] .colab-df-convert {\n",
              "      background-color: #3B4455;\n",
              "      fill: #D2E3FC;\n",
              "    }\n",
              "\n",
              "    [theme=dark] .colab-df-convert:hover {\n",
              "      background-color: #434B5C;\n",
              "      box-shadow: 0px 1px 3px 1px rgba(0, 0, 0, 0.15);\n",
              "      filter: drop-shadow(0px 1px 2px rgba(0, 0, 0, 0.3));\n",
              "      fill: #FFFFFF;\n",
              "    }\n",
              "  </style>\n",
              "\n",
              "      <script>\n",
              "        const buttonEl =\n",
              "          document.querySelector('#df-f37eb097-9281-45c0-a6db-e3ad983abf32 button.colab-df-convert');\n",
              "        buttonEl.style.display =\n",
              "          google.colab.kernel.accessAllowed ? 'block' : 'none';\n",
              "\n",
              "        async function convertToInteractive(key) {\n",
              "          const element = document.querySelector('#df-f37eb097-9281-45c0-a6db-e3ad983abf32');\n",
              "          const dataTable =\n",
              "            await google.colab.kernel.invokeFunction('convertToInteractive',\n",
              "                                                     [key], {});\n",
              "          if (!dataTable) return;\n",
              "\n",
              "          const docLinkHtml = 'Like what you see? Visit the ' +\n",
              "            '<a target=\"_blank\" href=https://colab.research.google.com/notebooks/data_table.ipynb>data table notebook</a>'\n",
              "            + ' to learn more about interactive tables.';\n",
              "          element.innerHTML = '';\n",
              "          dataTable['output_type'] = 'display_data';\n",
              "          await google.colab.output.renderOutput(dataTable, element);\n",
              "          const docLink = document.createElement('div');\n",
              "          docLink.innerHTML = docLinkHtml;\n",
              "          element.appendChild(docLink);\n",
              "        }\n",
              "      </script>\n",
              "    </div>\n",
              "  </div>\n",
              "  "
            ],
            "text/plain": [
              "  SEQUENCE_ID                                           SEQUENCE   CREATURE  \\\n",
              "0    00011UBJ  MPWQELSITVPHEYVEPISYLFGRYGKGVSTELAGNGQVLLRTYLT...  creature9   \n",
              "1    0001HZ3P  MGKLVIGSRGSELALWQANHIKERLKKECLIESEIQIVKTKGDKIL...  creature3   \n",
              "2    0003NJDO  MFIVAVLMLAFLIFVHELGHFTIARICGVKVEVFSIGFGKKLCFFK...  creature3   \n",
              "3    0003XVE3  MKNTSLSTTLTMNDTIAAIATPLGKGAISIIKISGHNALNILKQLT...  creature3   \n",
              "4    00049BS0  MGNRLTKIYTKTGDSGLTGLADGSRTEKDSLRIFVIGDVDELNSLL...  creature8   \n",
              "\n",
              "     LABEL  \n",
              "0  class11  \n",
              "1  class13  \n",
              "2  class16  \n",
              "3  class12  \n",
              "4  class13  "
            ]
          },
          "execution_count": 8,
          "metadata": {},
          "output_type": "execute_result"
        }
      ],
      "source": [
        "d = pd.read_csv('/content/drive/MyDrive/Enzyme_Dataset/Train.csv')\n",
        "d.head()"
      ]
    },
    {
      "cell_type": "markdown",
      "metadata": {
        "id": "_w0B6VWNp-7D"
      },
      "source": [
        "*apparently the esm1b embedder cannot process sequeces of length greater than 1024 hen we need to truncate it to a value less than 1022(reserving 2 for seperator and unk tokens). I chose 1000*"
      ]
    },
    {
      "cell_type": "code",
      "execution_count": null,
      "metadata": {
        "id": "NjqQpNnooTU_"
      },
      "outputs": [],
      "source": [
        "def truncator(s):\n",
        "  if len(str(s)) < 1000:\n",
        "    ans = s\n",
        "  else:\n",
        "    ans = str(s)[:1000]\n",
        "  return ans\n",
        "\n",
        "\n",
        "d['SEQUENCE'] = d['SEQUENCE'].apply(truncator)\n"
      ]
    },
    {
      "cell_type": "code",
      "execution_count": null,
      "metadata": {
        "id": "YTc-oKPSoTRU"
      },
      "outputs": [],
      "source": [
        "sequencez = d['SEQUENCE'].values"
      ]
    },
    {
      "cell_type": "code",
      "execution_count": null,
      "metadata": {
        "colab": {
          "background_save": true
        },
        "id": "wK2hOuBxoTOl"
      },
      "outputs": [],
      "source": [
        "embedder = ESM1bEmbedder(device = 'cuda')"
      ]
    },
    {
      "cell_type": "markdown",
      "metadata": {
        "id": "3AkRMtEOq19u"
      },
      "source": [
        "*storing the 1280 lomg embedding for each protein sequence in a list called \"embeddings\" and then dumping it into a pickel file for avoiding to generate it again and again*"
      ]
    },
    {
      "cell_type": "markdown",
      "metadata": {
        "id": "_YxU4BrKrLqA"
      },
      "source": [
        "*The cell below will take around 24-30 hours to process all of the 858777 training sequences. (I will provide a link for you to download it using wget to avoid this step)*"
      ]
    },
    {
      "cell_type": "code",
      "execution_count": null,
      "metadata": {
        "id": "72INXprbqrZv"
      },
      "outputs": [],
      "source": [
        "embeddings = []\n",
        "for sequence in sequencez:\n",
        "  per_amino = embedder.embed(sequence)\n",
        "  embeddings.append(embedder.reduce_per_protein(per_amino))"
      ]
    },
    {
      "cell_type": "code",
      "execution_count": null,
      "metadata": {
        "id": "_g6VQCQNqrVi"
      },
      "outputs": [],
      "source": [
        "import pickle\n",
        "with open('ESM1b_train_embeddings.pkl', 'wb') as f:\n",
        "  pickle.dump(embeddings, f)"
      ]
    },
    {
      "cell_type": "markdown",
      "metadata": {
        "id": "kT2-KKhztyTg"
      },
      "source": [
        "# The same code and technique can be used to extract the embeddings of the sequences from Test.csv"
      ]
    },
    {
      "cell_type": "code",
      "execution_count": null,
      "metadata": {
        "colab": {
          "base_uri": "https://localhost:8080/",
          "height": 206
        },
        "outputId": "6e1259a8-eef9-41e2-b229-7ca10cff7a53",
        "id": "J032vFHLyzpA"
      },
      "outputs": [
        {
          "data": {
            "text/html": [
              "\n",
              "  <div id=\"df-f37eb097-9281-45c0-a6db-e3ad983abf32\">\n",
              "    <div class=\"colab-df-container\">\n",
              "      <div>\n",
              "<style scoped>\n",
              "    .dataframe tbody tr th:only-of-type {\n",
              "        vertical-align: middle;\n",
              "    }\n",
              "\n",
              "    .dataframe tbody tr th {\n",
              "        vertical-align: top;\n",
              "    }\n",
              "\n",
              "    .dataframe thead th {\n",
              "        text-align: right;\n",
              "    }\n",
              "</style>\n",
              "<table border=\"1\" class=\"dataframe\">\n",
              "  <thead>\n",
              "    <tr style=\"text-align: right;\">\n",
              "      <th></th>\n",
              "      <th>SEQUENCE_ID</th>\n",
              "      <th>SEQUENCE</th>\n",
              "      <th>CREATURE</th>\n",
              "      <th>LABEL</th>\n",
              "    </tr>\n",
              "  </thead>\n",
              "  <tbody>\n",
              "    <tr>\n",
              "      <th>0</th>\n",
              "      <td>00011UBJ</td>\n",
              "      <td>MPWQELSITVPHEYVEPISYLFGRYGKGVSTELAGNGQVLLRTYLT...</td>\n",
              "      <td>creature9</td>\n",
              "      <td>class11</td>\n",
              "    </tr>\n",
              "    <tr>\n",
              "      <th>1</th>\n",
              "      <td>0001HZ3P</td>\n",
              "      <td>MGKLVIGSRGSELALWQANHIKERLKKECLIESEIQIVKTKGDKIL...</td>\n",
              "      <td>creature3</td>\n",
              "      <td>class13</td>\n",
              "    </tr>\n",
              "    <tr>\n",
              "      <th>2</th>\n",
              "      <td>0003NJDO</td>\n",
              "      <td>MFIVAVLMLAFLIFVHELGHFTIARICGVKVEVFSIGFGKKLCFFK...</td>\n",
              "      <td>creature3</td>\n",
              "      <td>class16</td>\n",
              "    </tr>\n",
              "    <tr>\n",
              "      <th>3</th>\n",
              "      <td>0003XVE3</td>\n",
              "      <td>MKNTSLSTTLTMNDTIAAIATPLGKGAISIIKISGHNALNILKQLT...</td>\n",
              "      <td>creature3</td>\n",
              "      <td>class12</td>\n",
              "    </tr>\n",
              "    <tr>\n",
              "      <th>4</th>\n",
              "      <td>00049BS0</td>\n",
              "      <td>MGNRLTKIYTKTGDSGLTGLADGSRTEKDSLRIFVIGDVDELNSLL...</td>\n",
              "      <td>creature8</td>\n",
              "      <td>class13</td>\n",
              "    </tr>\n",
              "  </tbody>\n",
              "</table>\n",
              "</div>\n",
              "      <button class=\"colab-df-convert\" onclick=\"convertToInteractive('df-f37eb097-9281-45c0-a6db-e3ad983abf32')\"\n",
              "              title=\"Convert this dataframe to an interactive table.\"\n",
              "              style=\"display:none;\">\n",
              "        \n",
              "  <svg xmlns=\"http://www.w3.org/2000/svg\" height=\"24px\"viewBox=\"0 0 24 24\"\n",
              "       width=\"24px\">\n",
              "    <path d=\"M0 0h24v24H0V0z\" fill=\"none\"/>\n",
              "    <path d=\"M18.56 5.44l.94 2.06.94-2.06 2.06-.94-2.06-.94-.94-2.06-.94 2.06-2.06.94zm-11 1L8.5 8.5l.94-2.06 2.06-.94-2.06-.94L8.5 2.5l-.94 2.06-2.06.94zm10 10l.94 2.06.94-2.06 2.06-.94-2.06-.94-.94-2.06-.94 2.06-2.06.94z\"/><path d=\"M17.41 7.96l-1.37-1.37c-.4-.4-.92-.59-1.43-.59-.52 0-1.04.2-1.43.59L10.3 9.45l-7.72 7.72c-.78.78-.78 2.05 0 2.83L4 21.41c.39.39.9.59 1.41.59.51 0 1.02-.2 1.41-.59l7.78-7.78 2.81-2.81c.8-.78.8-2.07 0-2.86zM5.41 20L4 18.59l7.72-7.72 1.47 1.35L5.41 20z\"/>\n",
              "  </svg>\n",
              "      </button>\n",
              "      \n",
              "  <style>\n",
              "    .colab-df-container {\n",
              "      display:flex;\n",
              "      flex-wrap:wrap;\n",
              "      gap: 12px;\n",
              "    }\n",
              "\n",
              "    .colab-df-convert {\n",
              "      background-color: #E8F0FE;\n",
              "      border: none;\n",
              "      border-radius: 50%;\n",
              "      cursor: pointer;\n",
              "      display: none;\n",
              "      fill: #1967D2;\n",
              "      height: 32px;\n",
              "      padding: 0 0 0 0;\n",
              "      width: 32px;\n",
              "    }\n",
              "\n",
              "    .colab-df-convert:hover {\n",
              "      background-color: #E2EBFA;\n",
              "      box-shadow: 0px 1px 2px rgba(60, 64, 67, 0.3), 0px 1px 3px 1px rgba(60, 64, 67, 0.15);\n",
              "      fill: #174EA6;\n",
              "    }\n",
              "\n",
              "    [theme=dark] .colab-df-convert {\n",
              "      background-color: #3B4455;\n",
              "      fill: #D2E3FC;\n",
              "    }\n",
              "\n",
              "    [theme=dark] .colab-df-convert:hover {\n",
              "      background-color: #434B5C;\n",
              "      box-shadow: 0px 1px 3px 1px rgba(0, 0, 0, 0.15);\n",
              "      filter: drop-shadow(0px 1px 2px rgba(0, 0, 0, 0.3));\n",
              "      fill: #FFFFFF;\n",
              "    }\n",
              "  </style>\n",
              "\n",
              "      <script>\n",
              "        const buttonEl =\n",
              "          document.querySelector('#df-f37eb097-9281-45c0-a6db-e3ad983abf32 button.colab-df-convert');\n",
              "        buttonEl.style.display =\n",
              "          google.colab.kernel.accessAllowed ? 'block' : 'none';\n",
              "\n",
              "        async function convertToInteractive(key) {\n",
              "          const element = document.querySelector('#df-f37eb097-9281-45c0-a6db-e3ad983abf32');\n",
              "          const dataTable =\n",
              "            await google.colab.kernel.invokeFunction('convertToInteractive',\n",
              "                                                     [key], {});\n",
              "          if (!dataTable) return;\n",
              "\n",
              "          const docLinkHtml = 'Like what you see? Visit the ' +\n",
              "            '<a target=\"_blank\" href=https://colab.research.google.com/notebooks/data_table.ipynb>data table notebook</a>'\n",
              "            + ' to learn more about interactive tables.';\n",
              "          element.innerHTML = '';\n",
              "          dataTable['output_type'] = 'display_data';\n",
              "          await google.colab.output.renderOutput(dataTable, element);\n",
              "          const docLink = document.createElement('div');\n",
              "          docLink.innerHTML = docLinkHtml;\n",
              "          element.appendChild(docLink);\n",
              "        }\n",
              "      </script>\n",
              "    </div>\n",
              "  </div>\n",
              "  "
            ],
            "text/plain": [
              "  SEQUENCE_ID                                           SEQUENCE   CREATURE  \\\n",
              "0    00011UBJ  MPWQELSITVPHEYVEPISYLFGRYGKGVSTELAGNGQVLLRTYLT...  creature9   \n",
              "1    0001HZ3P  MGKLVIGSRGSELALWQANHIKERLKKECLIESEIQIVKTKGDKIL...  creature3   \n",
              "2    0003NJDO  MFIVAVLMLAFLIFVHELGHFTIARICGVKVEVFSIGFGKKLCFFK...  creature3   \n",
              "3    0003XVE3  MKNTSLSTTLTMNDTIAAIATPLGKGAISIIKISGHNALNILKQLT...  creature3   \n",
              "4    00049BS0  MGNRLTKIYTKTGDSGLTGLADGSRTEKDSLRIFVIGDVDELNSLL...  creature8   \n",
              "\n",
              "     LABEL  \n",
              "0  class11  \n",
              "1  class13  \n",
              "2  class16  \n",
              "3  class12  \n",
              "4  class13  "
            ]
          },
          "execution_count": 8,
          "metadata": {},
          "output_type": "execute_result"
        }
      ],
      "source": [
        "d = pd.read_csv('/content/drive/MyDrive/Enzyme_Dataset/Test.csv')\n",
        "d.head()"
      ]
    },
    {
      "cell_type": "code",
      "execution_count": null,
      "metadata": {
        "id": "pwnfuedCyzpB"
      },
      "outputs": [],
      "source": [
        "sequencez = d['SEQUENCE'].values"
      ]
    },
    {
      "cell_type": "code",
      "execution_count": null,
      "metadata": {
        "id": "WiWPUjTVyzpB"
      },
      "outputs": [],
      "source": [
        "embeddings = []\n",
        "for sequence in sequencez:\n",
        "  per_amino = embedder.embed(sequence)\n",
        "  embeddings.append(embedder.reduce_per_protein(per_amino))"
      ]
    },
    {
      "cell_type": "code",
      "execution_count": null,
      "metadata": {
        "id": "Yd8ec7d9yzpB"
      },
      "outputs": [],
      "source": [
        "import pickle\n",
        "with open('ESM1b_testing_embeddings.pkl', 'wb') as f:\n",
        "  pickle.dump(embeddings, f)"
      ]
    },
    {
      "cell_type": "markdown",
      "metadata": {
        "id": "Kgk31XU5wDEt"
      },
      "source": [
        "Now that we have our embeddings for both train.csv as well as Test.csv, we can proceed towards training them using a Machine learning model.\n",
        "Please see the Training notebook for that!"
      ]
    },
    {
      "cell_type": "markdown",
      "metadata": {
        "id": "3AWRQqUBwqxl"
      },
      "source": [
        "\n",
        "\n",
        "---\n",
        "\n"
      ]
    }
  ],
  "metadata": {
    "accelerator": "GPU",
    "colab": {
      "collapsed_sections": [],
      "machine_shape": "hm",
      "name": "Enzyme_Feature_Generation.ipynb",
      "provenance": []
    },
    "kernelspec": {
      "display_name": "Python 3",
      "name": "python3"
    }
  },
  "nbformat": 4,
  "nbformat_minor": 0
}